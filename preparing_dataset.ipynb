{
 "cells": [
  {
   "cell_type": "code",
   "execution_count": 1,
   "metadata": {
    "pycharm": {
     "name": "#%%\n"
    }
   },
   "outputs": [],
   "source": [
    "import os\n",
    "import warnings\n",
    "\n",
    "import librosa\n",
    "import numpy as np\n",
    "import pandas as pd\n",
    "from pandarallel import pandarallel"
   ]
  },
  {
   "cell_type": "code",
   "execution_count": 2,
   "outputs": [
    {
     "name": "stdout",
     "output_type": "stream",
     "text": [
      "INFO: Pandarallel will run on 4 workers.\n",
      "INFO: Pandarallel will use Memory file system to transfer data between the main process and workers.\n"
     ]
    }
   ],
   "source": [
    "pandarallel.initialize(progress_bar=True)"
   ],
   "metadata": {
    "collapsed": false,
    "pycharm": {
     "name": "#%%\n"
    }
   }
  },
  {
   "cell_type": "code",
   "execution_count": 3,
   "metadata": {
    "pycharm": {
     "name": "#%%\n"
    }
   },
   "outputs": [
    {
     "name": "stdout",
     "output_type": "stream",
     "text": [
      "['cv-valid-dev', 'cv-valid-test', 'cv-valid-train']\n"
     ]
    }
   ],
   "source": [
    "raw_folder = './raw/'\n",
    "dataset_folder = './dataset/'\n",
    "max_freq = 280\n",
    "min_freq = 40\n",
    "\n",
    "\n",
    "if not os.path.exists(dataset_folder):\n",
    "    os.mkdir(dataset_folder)\n",
    "samples = [d for d in os.listdir(raw_folder) if os.path.isdir(os.path.join(raw_folder, d))]\n",
    "n_samples = len(samples)\n",
    "print(samples)"
   ]
  },
  {
   "cell_type": "code",
   "execution_count": 4,
   "outputs": [],
   "source": [
    "columns = [\"meanfreq\", \"sd\", \"median\", \"q25\", \"q75\", \"iqr\", \"skew\", \"kurt\", \"label\"]"
   ],
   "metadata": {
    "collapsed": false,
    "pycharm": {
     "name": "#%%\n"
    }
   }
  },
  {
   "cell_type": "code",
   "execution_count": 10,
   "metadata": {},
   "outputs": [],
   "source": [
    "def properties(y: np.ndarray, fs: int):\n",
    "    spec = np.abs(np.fft.rfft(y))\n",
    "    freq = np.fft.rfftfreq(len(y), d=1 / fs)\n",
    "\n",
    "    points_per_freq = len(freq) / (fs / 2)\n",
    "    spec[int(points_per_freq * max_freq) + 1 : ] = 0\n",
    "    spec[0 : int(points_per_freq * min_freq)] = 0\n",
    "    if spec.sum() == 0:\n",
    "        return [np.NaN for _ in range(len(columns) - 1)]\n",
    "    amp = spec / spec.sum()\n",
    "    mean = (freq * amp).sum()\n",
    "    sd = np.sqrt(np.sum(amp * ((freq - mean) ** 2)))\n",
    "    amp_cumsum = np.cumsum(amp)\n",
    "    median = freq[len(amp_cumsum[amp_cumsum <= 0.5]) + 1]\n",
    "    mode = freq[amp.argmax()]\n",
    "    q25 = freq[len(amp_cumsum[amp_cumsum <= 0.25]) + 1]\n",
    "    q75 = freq[len(amp_cumsum[amp_cumsum <= 0.75]) + 1]\n",
    "    iqr = q75 - q25\n",
    "    z = amp - amp.mean()\n",
    "    w = amp.std()\n",
    "    skew = ((z ** 3).sum() / (len(spec) - 1)) / w ** 3\n",
    "    kurt = ((z ** 4).sum() / (len(spec) - 1)) / w ** 4\n",
    "    return [mean, sd, median, q25, q75, iqr, skew, kurt]"
   ]
  },
  {
   "cell_type": "code",
   "execution_count": 11,
   "outputs": [],
   "source": [
    "def extract_data(row, wav_folder):\n",
    "    filename = os.path.join(wav_folder, row['filename'])\n",
    "\n",
    "    gender = row['gender']\n",
    "\n",
    "    warnings.filterwarnings(\"ignore\")\n",
    "    data, rate = librosa.load(filename, sr=None)\n",
    "    warnings.filterwarnings(\"default\")\n",
    "\n",
    "    # разбиваем на аудио фрагменты по 5 секунд\n",
    "    step = rate * 5\n",
    "    props = [[] for _ in range(columns.__len__())]\n",
    "    for i in range(0, len(data), step):\n",
    "        if len(data[i : i + step]) > rate and data[i : i + step].any():\n",
    "            prop = properties(data[i : i + step], rate)\n",
    "            prop.append(gender)\n",
    "            for p, p_list in zip(prop, props):\n",
    "                p_list.append(p)\n",
    "    return props"
   ],
   "metadata": {
    "collapsed": false,
    "pycharm": {
     "name": "#%%\n"
    }
   }
  },
  {
   "cell_type": "code",
   "execution_count": 12,
   "outputs": [
    {
     "name": "stdout",
     "output_type": "stream",
     "text": [
      "cv-valid-dev\n"
     ]
    },
    {
     "data": {
      "text/plain": "VBox(children=(HBox(children=(IntProgress(value=0, description='0.00%', max=385), Label(value='0 / 385'))), HB…",
      "application/vnd.jupyter.widget-view+json": {
       "version_major": 2,
       "version_minor": 0,
       "model_id": "d030a40533504593ab713c381b7dddc2"
      }
     },
     "metadata": {},
     "output_type": "display_data"
    },
    {
     "name": "stdout",
     "output_type": "stream",
     "text": [
      "cv-valid-test\n"
     ]
    },
    {
     "data": {
      "text/plain": "VBox(children=(HBox(children=(IntProgress(value=0, description='0.00%', max=386), Label(value='0 / 386'))), HB…",
      "application/vnd.jupyter.widget-view+json": {
       "version_major": 2,
       "version_minor": 0,
       "model_id": "9e015fb49df841959ada66f6c847cd54"
      }
     },
     "metadata": {},
     "output_type": "display_data"
    },
    {
     "name": "stdout",
     "output_type": "stream",
     "text": [
      "cv-valid-train\n"
     ]
    },
    {
     "data": {
      "text/plain": "VBox(children=(HBox(children=(IntProgress(value=0, description='0.00%', max=18515), Label(value='0 / 18515')))…",
      "application/vnd.jupyter.widget-view+json": {
       "version_major": 2,
       "version_minor": 0,
       "model_id": "dae4c4941ada44e89a2f0f3fcaf83f69"
      }
     },
     "metadata": {},
     "output_type": "display_data"
    }
   ],
   "source": [
    "for sample in samples:\n",
    "    wav_folder = os.path.join(raw_folder, sample)\n",
    "    descr_file = os.path.join(raw_folder, sample + '.csv')\n",
    "\n",
    "    df = pd.read_csv(descr_file).dropna(subset=['gender']).reset_index()\n",
    "\n",
    "    print(sample)\n",
    "    myData = df.parallel_apply(extract_data, wav_folder=wav_folder, axis=1, result_type='expand')\\\n",
    "        .set_axis(columns, axis='columns')\\\n",
    "        .explode(columns, ignore_index=True)\\\n",
    "        .dropna()\n",
    "\n",
    "    myData.to_csv(os.path.join(dataset_folder, sample + '.csv'), index=False)"
   ],
   "metadata": {
    "collapsed": false,
    "pycharm": {
     "name": "#%%\n"
    }
   }
  },
  {
   "cell_type": "code",
   "execution_count": null,
   "outputs": [],
   "source": [],
   "metadata": {
    "collapsed": false,
    "pycharm": {
     "name": "#%%\n"
    }
   }
  }
 ],
 "metadata": {
  "kernelspec": {
   "display_name": "Python 3 (ipykernel)",
   "language": "python",
   "name": "python3"
  },
  "language_info": {
   "codemirror_mode": {
    "name": "ipython",
    "version": 2
   },
   "file_extension": ".py",
   "mimetype": "text/x-python",
   "name": "python",
   "nbconvert_exporter": "python",
   "pygments_lexer": "ipython2",
   "version": "2.7.6"
  }
 },
 "nbformat": 4,
 "nbformat_minor": 1
}