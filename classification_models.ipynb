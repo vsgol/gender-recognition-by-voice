{
 "cells": [
  {
   "cell_type": "code",
   "execution_count": 9,
   "metadata": {
    "collapsed": true
   },
   "outputs": [],
   "source": [
    "import matplotlib.pyplot as plt\n",
    "import numpy as np\n",
    "import seaborn as sb\n",
    "import os\n",
    "\n",
    "sb.set_style(\"whitegrid\", {'axes.grid': False})\n",
    "sb.set(font_scale=2)\n",
    "import pandas as pd\n",
    "from sklearn.model_selection import train_test_split\n",
    "from sklearn.preprocessing import StandardScaler\n",
    "from sklearn.tree import DecisionTreeClassifier\n",
    "from sklearn.ensemble import RandomForestClassifier\n",
    "from sklearn.ensemble import GradientBoostingClassifier\n",
    "from sklearn.svm import SVC\n",
    "from sklearn.neural_network import MLPClassifier"
   ]
  },
  {
   "cell_type": "code",
   "execution_count": 10,
   "outputs": [
    {
     "name": "stdout",
     "output_type": "stream",
     "text": [
      "Total samples: 82852\n",
      "Total male samples: 61025\n",
      "Total female samples: 20957\n"
     ]
    }
   ],
   "source": [
    "dataset_folder = './dataset/'\n",
    "train_data = pd.read_csv(os.path.join(dataset_folder, 'cv-valid-train.csv'))\n",
    "test_data = pd.read_csv(os.path.join(dataset_folder, 'cv-valid-test.csv'))\n",
    "valid_data = pd.read_csv(os.path.join(dataset_folder, 'cv-valid-dev.csv'))\n",
    "\n",
    "n_samples = len(train_data)\n",
    "n_male_samples = len(train_data.loc[train_data['label'] == 'male'])\n",
    "n_female_samples = len(train_data.loc[train_data['label'] == 'female'])\n",
    "print(\"Total samples:\", n_samples)\n",
    "print(\"Total male samples:\", n_male_samples)\n",
    "print(\"Total female samples:\", n_female_samples)"
   ],
   "metadata": {
    "collapsed": false,
    "pycharm": {
     "name": "#%%\n"
    }
   }
  },
  {
   "cell_type": "code",
   "execution_count": 11,
   "outputs": [],
   "source": [
    "def split_dataframe(df: pd.DataFrame, is_train: bool):\n",
    "    label2int = {\n",
    "        \"male\": 1,\n",
    "        \"female\": 0\n",
    "    }\n",
    "\n",
    "    male = df.loc[df['label'] == 'male']\n",
    "    female = df.loc[df['label'] == 'female']\n",
    "    n_samples_ = min(len(male), len(female))\n",
    "\n",
    "    df = pd.concat([male.sample(n_samples_), female.sample(n_samples_)], ignore_index=True)\\\n",
    "        .sample(frac=1)\\\n",
    "        .reset_index(drop=True)\n",
    "\n",
    "    X = df.drop(['label'], axis=1).to_numpy()\n",
    "    y = df['label'].apply(label2int.get).to_numpy()\n",
    "\n",
    "    if is_train:\n",
    "        split_dataframe.scaler.fit(X)\n",
    "\n",
    "    X = split_dataframe.scaler.transform(X)\n",
    "    return X, y\n",
    "\n",
    "split_dataframe.scaler = StandardScaler()"
   ],
   "metadata": {
    "collapsed": false,
    "pycharm": {
     "name": "#%%\n"
    }
   }
  },
  {
   "cell_type": "code",
   "execution_count": 12,
   "outputs": [],
   "source": [
    "X_train, y_train = split_dataframe(train_data, True)\n",
    "X_test, y_test = split_dataframe(test_data, False)\n",
    "X_valid, y_valid = split_dataframe(valid_data, False)"
   ],
   "metadata": {
    "collapsed": false,
    "pycharm": {
     "name": "#%%\n"
    }
   }
  },
  {
   "cell_type": "code",
   "execution_count": 13,
   "outputs": [
    {
     "name": "stdout",
     "output_type": "stream",
     "text": [
      "Decision Tree\n",
      "Accuracy on test set: 0.776\n",
      "Accuracy on valid set: 0.784\n"
     ]
    }
   ],
   "source": [
    "tree = DecisionTreeClassifier(random_state=0).fit(X_train, y_train)\n",
    "print(\"Decision Tree\")\n",
    "print(f\"Accuracy on test set: {tree.score(X_test, y_test):.3f}\")\n",
    "print(f\"Accuracy on valid set: {tree.score(X_valid, y_valid):.3f}\")"
   ],
   "metadata": {
    "collapsed": false,
    "pycharm": {
     "name": "#%%\n"
    }
   }
  },
  {
   "cell_type": "code",
   "execution_count": 14,
   "outputs": [
    {
     "name": "stdout",
     "output_type": "stream",
     "text": [
      "Random Forests\n",
      "Accuracy on test set: 0.832\n",
      "Accuracy on valid set: 0.827\n"
     ]
    }
   ],
   "source": [
    "forest = RandomForestClassifier(n_estimators=5, random_state=0).fit(X_train, y_train)\n",
    "print(\"Random Forests\")\n",
    "print(f\"Accuracy on test set: {forest.score(X_test, y_test):.3f}\")\n",
    "print(f\"Accuracy on valid set: {forest.score(X_valid, y_valid):.3f}\")"
   ],
   "metadata": {
    "collapsed": false,
    "pycharm": {
     "name": "#%%\n"
    }
   }
  },
  {
   "cell_type": "code",
   "execution_count": 15,
   "outputs": [
    {
     "name": "stdout",
     "output_type": "stream",
     "text": [
      "Gradient Boosting\n",
      "Accuracy on test set: 0.842\n",
      "Accuracy on valid set: 0.842\n"
     ]
    }
   ],
   "source": [
    "gbrt = GradientBoostingClassifier(random_state=0).fit(X_train, y_train)\n",
    "print(\"Gradient Boosting\")\n",
    "print(f\"Accuracy on test set: {gbrt.score(X_test, y_test):.3f}\")\n",
    "print(f\"Accuracy on valid set: {gbrt.score(X_valid, y_valid):.3f}\")"
   ],
   "metadata": {
    "collapsed": false,
    "pycharm": {
     "name": "#%%\n"
    }
   }
  },
  {
   "cell_type": "code",
   "execution_count": 16,
   "outputs": [
    {
     "name": "stdout",
     "output_type": "stream",
     "text": [
      "Support Vector Machine\n",
      "Accuracy on test set: 0.845\n",
      "Accuracy on valid set: 0.842\n"
     ]
    }
   ],
   "source": [
    "svm = SVC().fit(X_train, y_train)\n",
    "print(\"Support Vector Machine\")\n",
    "print(f\"Accuracy on test set: {svm.score(X_test, y_test):.3f}\")\n",
    "print(f\"Accuracy on valid set: {svm.score(X_valid, y_valid):.3f}\")"
   ],
   "metadata": {
    "collapsed": false,
    "pycharm": {
     "name": "#%%\n"
    }
   }
  },
  {
   "cell_type": "code",
   "execution_count": 17,
   "outputs": [
    {
     "name": "stdout",
     "output_type": "stream",
     "text": [
      "Multilayer Perceptron\n",
      "Accuracy on test set: 0.846\n",
      "Accuracy on valid set: 0.845\n"
     ]
    }
   ],
   "source": [
    "mlp = MLPClassifier(random_state=0).fit(X_train, y_train)\n",
    "print(\"Multilayer Perceptron\")\n",
    "print(f\"Accuracy on test set: {mlp.score(X_test, y_test):.3f}\")\n",
    "print(f\"Accuracy on valid set: {mlp.score(X_valid, y_valid):.3f}\")"
   ],
   "metadata": {
    "collapsed": false,
    "pycharm": {
     "name": "#%%\n"
    }
   }
  },
  {
   "cell_type": "code",
   "execution_count": 17,
   "outputs": [],
   "source": [],
   "metadata": {
    "collapsed": false,
    "pycharm": {
     "name": "#%%\n"
    }
   }
  }
 ],
 "metadata": {
  "kernelspec": {
   "display_name": "Python 3",
   "language": "python",
   "name": "python3"
  },
  "language_info": {
   "codemirror_mode": {
    "name": "ipython",
    "version": 2
   },
   "file_extension": ".py",
   "mimetype": "text/x-python",
   "name": "python",
   "nbconvert_exporter": "python",
   "pygments_lexer": "ipython2",
   "version": "2.7.6"
  }
 },
 "nbformat": 4,
 "nbformat_minor": 0
}